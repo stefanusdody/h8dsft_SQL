{
 "cells": [
  {
   "cell_type": "markdown",
   "id": "ee98b146",
   "metadata": {},
   "source": [
    "## Import Libraries"
   ]
  },
  {
   "cell_type": "code",
   "execution_count": 1,
   "id": "e81911bf",
   "metadata": {},
   "outputs": [],
   "source": [
    "import pandas as pd\n",
    "import sqlite3\n",
    "from sqlite3 import Error"
   ]
  },
  {
   "cell_type": "markdown",
   "id": "47e91bd2",
   "metadata": {},
   "source": [
    "## Loading Dataset"
   ]
  },
  {
   "cell_type": "markdown",
   "id": "004639ab",
   "metadata": {},
   "source": [
    "#### Assesments dataset"
   ]
  },
  {
   "cell_type": "code",
   "execution_count": 2,
   "id": "b1f6130a",
   "metadata": {},
   "outputs": [
    {
     "data": {
      "text/plain": [
       "code_module           object\n",
       "code_presentation     object\n",
       "id_assessment          int64\n",
       "assessment_type       object\n",
       "date                 float64\n",
       "weight               float64\n",
       "dtype: object"
      ]
     },
     "execution_count": 2,
     "metadata": {},
     "output_type": "execute_result"
    }
   ],
   "source": [
    "assessments = pd.read_csv('assessments.csv')\n",
    "assessments.dtypes"
   ]
  },
  {
   "cell_type": "markdown",
   "id": "ae7a90f2",
   "metadata": {},
   "source": [
    "## Membuat create_connection function"
   ]
  },
  {
   "cell_type": "code",
   "execution_count": 3,
   "id": "c35fc0ee",
   "metadata": {},
   "outputs": [],
   "source": [
    "def create_connection(path):\n",
    "    connection=None\n",
    "    try:\n",
    "        connection = sqlite3.connect(path)\n",
    "        print(\"Connection to SQLite DB successfull\")\n",
    "    except Error as e:\n",
    "        print(f\"The error '{e}' occured\")\n",
    "    return(connection)"
   ]
  },
  {
   "cell_type": "markdown",
   "id": "b3d6e6ae",
   "metadata": {},
   "source": [
    "## Membuat variable connection"
   ]
  },
  {
   "cell_type": "code",
   "execution_count": 4,
   "id": "1381f09f",
   "metadata": {},
   "outputs": [
    {
     "name": "stdout",
     "output_type": "stream",
     "text": [
      "Connection to SQLite DB successfull\n"
     ]
    }
   ],
   "source": [
    "connection = create_connection('connect')"
   ]
  },
  {
   "cell_type": "markdown",
   "id": "b554f455",
   "metadata": {},
   "source": [
    "## Membuat execute_function"
   ]
  },
  {
   "cell_type": "code",
   "execution_count": 5,
   "id": "7e3cbbd4",
   "metadata": {},
   "outputs": [],
   "source": [
    "def execute_query(connection, query):\n",
    "    cursor = connection.cursor()\n",
    "    try:\n",
    "        cursor.execute(query)\n",
    "        connection.commit()\n",
    "        print(\"Query executed successfully\")\n",
    "    except Error as e:\n",
    "        print(f\"The error '{e}' occured\")"
   ]
  },
  {
   "cell_type": "markdown",
   "id": "91ef5942",
   "metadata": {},
   "source": [
    "## Membuat Table"
   ]
  },
  {
   "cell_type": "markdown",
   "id": "b59af795",
   "metadata": {},
   "source": [
    "#### Membuat table assesments"
   ]
  },
  {
   "cell_type": "code",
   "execution_count": 6,
   "id": "042bd4de",
   "metadata": {},
   "outputs": [
    {
     "name": "stdout",
     "output_type": "stream",
     "text": [
      "Query executed successfully\n"
     ]
    }
   ],
   "source": [
    "create_assessments_table= \"\"\"\n",
    "CREATE TABLE IF NOT EXISTS assessments (\n",
    "    code_module TEXT,\n",
    "    code_presentation TEXT,\n",
    "    id_assessment INT,\n",
    "    assessment_type TEXT,\n",
    "    date INT,\n",
    "    weight INT,\n",
    "    PRIMARY KEY (id_assessment)\n",
    ")\n",
    "\"\"\"\n",
    "execute_query(connection, create_assessments_table)"
   ]
  },
  {
   "cell_type": "markdown",
   "id": "ac9e7ca9",
   "metadata": {},
   "source": [
    "## Menyimpan data kedalam sql"
   ]
  },
  {
   "cell_type": "markdown",
   "id": "c25e542b",
   "metadata": {},
   "source": [
    "#### Menyimpan data assessment kedalam sql"
   ]
  },
  {
   "cell_type": "code",
   "execution_count": 7,
   "id": "2c344afc",
   "metadata": {},
   "outputs": [],
   "source": [
    "assessments.to_sql('assessments', connection, if_exists='append', index=False )"
   ]
  },
  {
   "cell_type": "markdown",
   "id": "5ccf5c14",
   "metadata": {},
   "source": [
    "## Menampilkan hasil penyimpanan kedalam sql\n",
    "\n",
    "\n",
    "Feature data yang ditampilkan dan disimpan adalah:\n",
    "* id_student\n",
    "* region\n",
    "* code_module\n",
    "* assessment_type\n",
    "* score\n",
    "* code_presentation = '2014B'"
   ]
  },
  {
   "cell_type": "markdown",
   "id": "66ad5b1a",
   "metadata": {},
   "source": [
    "#### Menampilkan hasil penyimpanan data assessment"
   ]
  },
  {
   "cell_type": "code",
   "execution_count": 8,
   "id": "d375dd5e",
   "metadata": {},
   "outputs": [
    {
     "data": {
      "text/html": [
       "<div>\n",
       "<style scoped>\n",
       "    .dataframe tbody tr th:only-of-type {\n",
       "        vertical-align: middle;\n",
       "    }\n",
       "\n",
       "    .dataframe tbody tr th {\n",
       "        vertical-align: top;\n",
       "    }\n",
       "\n",
       "    .dataframe thead th {\n",
       "        text-align: right;\n",
       "    }\n",
       "</style>\n",
       "<table border=\"1\" class=\"dataframe\">\n",
       "  <thead>\n",
       "    <tr style=\"text-align: right;\">\n",
       "      <th></th>\n",
       "      <th>code_module</th>\n",
       "      <th>assessment_type</th>\n",
       "      <th>code_presentation</th>\n",
       "    </tr>\n",
       "  </thead>\n",
       "  <tbody>\n",
       "    <tr>\n",
       "      <th>0</th>\n",
       "      <td>BBB</td>\n",
       "      <td>CMA</td>\n",
       "      <td>2014B</td>\n",
       "    </tr>\n",
       "    <tr>\n",
       "      <th>1</th>\n",
       "      <td>BBB</td>\n",
       "      <td>CMA</td>\n",
       "      <td>2014B</td>\n",
       "    </tr>\n",
       "    <tr>\n",
       "      <th>2</th>\n",
       "      <td>BBB</td>\n",
       "      <td>CMA</td>\n",
       "      <td>2014B</td>\n",
       "    </tr>\n",
       "    <tr>\n",
       "      <th>3</th>\n",
       "      <td>BBB</td>\n",
       "      <td>CMA</td>\n",
       "      <td>2014B</td>\n",
       "    </tr>\n",
       "    <tr>\n",
       "      <th>4</th>\n",
       "      <td>BBB</td>\n",
       "      <td>CMA</td>\n",
       "      <td>2014B</td>\n",
       "    </tr>\n",
       "  </tbody>\n",
       "</table>\n",
       "</div>"
      ],
      "text/plain": [
       "  code_module assessment_type code_presentation\n",
       "0         BBB             CMA             2014B\n",
       "1         BBB             CMA             2014B\n",
       "2         BBB             CMA             2014B\n",
       "3         BBB             CMA             2014B\n",
       "4         BBB             CMA             2014B"
      ]
     },
     "execution_count": 8,
     "metadata": {},
     "output_type": "execute_result"
    }
   ],
   "source": [
    "assessments = pd.read_sql_query(\"SELECT code_module, assessment_type, code_presentation FROM assessments WHERE code_presentation ='2014B' \",connection)\n",
    "assessments.head()"
   ]
  },
  {
   "cell_type": "markdown",
   "id": "0117f7a6",
   "metadata": {},
   "source": [
    "## Menyimpan data kedalam format Excel"
   ]
  },
  {
   "cell_type": "markdown",
   "id": "b8a06f23",
   "metadata": {},
   "source": [
    "#### Menyimpan data assessments kedalam format excel"
   ]
  },
  {
   "cell_type": "code",
   "execution_count": 9,
   "id": "63088a8d",
   "metadata": {},
   "outputs": [],
   "source": [
    "assessments.to_excel('assessments.xls')"
   ]
  }
 ],
 "metadata": {
  "kernelspec": {
   "display_name": "Python 3",
   "language": "python",
   "name": "python3"
  },
  "language_info": {
   "codemirror_mode": {
    "name": "ipython",
    "version": 3
   },
   "file_extension": ".py",
   "mimetype": "text/x-python",
   "name": "python",
   "nbconvert_exporter": "python",
   "pygments_lexer": "ipython3",
   "version": "3.8.5"
  }
 },
 "nbformat": 4,
 "nbformat_minor": 5
}
